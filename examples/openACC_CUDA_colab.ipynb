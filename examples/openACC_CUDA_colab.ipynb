{
 "cells": [
  {
   "cell_type": "markdown",
   "metadata": {
    "id": "D6BqLpZjlzBM"
   },
   "source": [
    "# OpenACC-CUDA workshop"
   ]
  },
  {
   "cell_type": "code",
   "execution_count": null,
   "metadata": {
    "colab": {
     "base_uri": "https://localhost:8080/"
    },
    "id": "8O5Zv1N5ovZi",
    "outputId": "8455ab0a-3d74-4ecb-adad-1b6df12c4ec5"
   },
   "outputs": [],
   "source": [
    "!pwd"
   ]
  },
  {
   "cell_type": "markdown",
   "metadata": {
    "id": "6WS9YBwSAsnf"
   },
   "source": [
    "## Activate GPU\n",
    "\n",
    "- To get access to a GPU, click on the *Runtime* menu and select *Change runtime type*. Choose GPU as a Hardware accelerator. It might take a minute for your notebook to connect to a GPU.\n",
    "- To check whether a GPU has been connected to your session, run the code cell below with the ``!nvidia-smi`` command by hitting ``SHIFT-ENTER`` on it."
   ]
  },
  {
   "cell_type": "code",
   "execution_count": null,
   "metadata": {
    "id": "dcgTx_OSAwA_"
   },
   "outputs": [],
   "source": [
    "!nvidia-smi"
   ]
  },
  {
   "cell_type": "markdown",
   "metadata": {
    "id": "xAPuix4SA3Vp"
   },
   "source": [
    "## Clone the material"
   ]
  },
  {
   "cell_type": "code",
   "execution_count": null,
   "metadata": {
    "colab": {
     "base_uri": "https://localhost:8080/"
    },
    "id": "qJIpAOBWpHOx",
    "outputId": "26636e8e-2070-41e6-d53e-61b1c3c9c722"
   },
   "outputs": [],
   "source": [
    "!git clone https://github.com/ENCCS/OpenACC-CUDA-intermediate.git"
   ]
  },
  {
   "cell_type": "code",
   "execution_count": null,
   "metadata": {
    "colab": {
     "base_uri": "https://localhost:8080/"
    },
    "id": "t44HqrHsls5x",
    "outputId": "860c08cb-06e6-4088-fad4-22057f692a3d"
   },
   "outputs": [],
   "source": [
    "!ls"
   ]
  },
  {
   "cell_type": "markdown",
   "metadata": {
    "id": "jeH9ThM7luF1"
   },
   "source": [
    "## OpenACC"
   ]
  },
  {
   "cell_type": "markdown",
   "metadata": {
    "id": "A6wNo7E9JF0D"
   },
   "source": [
    "### Getting started\n",
    "\n",
    "Here's how you compile and run a simple hello-world OpenACC code"
   ]
  },
  {
   "cell_type": "code",
   "execution_count": null,
   "metadata": {
    "colab": {
     "base_uri": "https://localhost:8080/"
    },
    "id": "qf-7cP6EJdXD",
    "outputId": "67c43fa7-0fc0-4390-a9b9-d75f34b11aa9"
   },
   "outputs": [],
   "source": [
    "%cd /content/OpenACC-CUDA-intermediate/examples/OpenACC/hello-world/"
   ]
  },
  {
   "cell_type": "code",
   "execution_count": null,
   "metadata": {
    "colab": {
     "base_uri": "https://localhost:8080/"
    },
    "id": "dS3XhPJHKPy7",
    "outputId": "35c36109-bace-4bde-92e5-0f771522d379"
   },
   "outputs": [],
   "source": [
    "!ls"
   ]
  },
  {
   "cell_type": "markdown",
   "metadata": {
    "id": "LknjXCxaKtLi"
   },
   "source": [
    "Compile and run C version"
   ]
  },
  {
   "cell_type": "code",
   "execution_count": null,
   "metadata": {
    "id": "EEuFYeB9KSV-"
   },
   "outputs": [],
   "source": [
    "!gcc -fopenacc -o hello_c hello.c"
   ]
  },
  {
   "cell_type": "code",
   "execution_count": null,
   "metadata": {
    "colab": {
     "base_uri": "https://localhost:8080/"
    },
    "id": "iVzDTFLpKcSl",
    "outputId": "15eba878-7104-451a-f316-f14e28ce4023"
   },
   "outputs": [],
   "source": [
    "!./hello_c"
   ]
  },
  {
   "cell_type": "markdown",
   "metadata": {
    "id": "dRFzmX4CKxyU"
   },
   "source": [
    "Compile and run Fortran version"
   ]
  },
  {
   "cell_type": "code",
   "execution_count": null,
   "metadata": {
    "id": "qeYvrnh4Kgvm"
   },
   "outputs": [],
   "source": [
    "!gfortran -fopenacc -o hello_f hello.F90"
   ]
  },
  {
   "cell_type": "code",
   "execution_count": null,
   "metadata": {
    "colab": {
     "base_uri": "https://localhost:8080/"
    },
    "id": "x6cvbnA2KpAW",
    "outputId": "51e6301e-f897-46a9-8059-1cc70dd56bd3"
   },
   "outputs": [],
   "source": [
    "!./hello_f"
   ]
  },
  {
   "cell_type": "code",
   "execution_count": null,
   "metadata": {},
   "outputs": [],
   "source": []
  },
  {
   "cell_type": "markdown",
   "metadata": {
    "id": "bAlNWf3blxI7"
   },
   "source": [
    "## CUDA"
   ]
  },
  {
   "cell_type": "markdown",
   "metadata": {
    "id": "x0By9cPCShlb"
   },
   "source": [
    "To view CUDA examples:"
   ]
  },
  {
   "cell_type": "code",
   "execution_count": null,
   "metadata": {
    "colab": {
     "base_uri": "https://localhost:8080/"
    },
    "id": "H_5pzYu-Sggk",
    "outputId": "deab857f-af5c-42fa-e2f1-e081487b90fb"
   },
   "outputs": [],
   "source": [
    "%cd /content/OpenACC-CUDA-intermediate/examples/CUDA/"
   ]
  },
  {
   "cell_type": "code",
   "execution_count": null,
   "metadata": {
    "colab": {
     "base_uri": "https://localhost:8080/"
    },
    "id": "pWVOmVCcSmgJ",
    "outputId": "b489ca19-e73c-47d9-9022-530f0d9b8222"
   },
   "outputs": [],
   "source": [
    "!ls"
   ]
  },
  {
   "cell_type": "markdown",
   "metadata": {},
   "source": [
    "Compile CPU codes with `gcc` and run:"
   ]
  },
  {
   "cell_type": "code",
   "execution_count": null,
   "metadata": {},
   "outputs": [],
   "source": [
    "gcc example.cpp -o example"
   ]
  },
  {
   "cell_type": "code",
   "execution_count": null,
   "metadata": {},
   "outputs": [],
   "source": [
    "!./example"
   ]
  },
  {
   "cell_type": "markdown",
   "metadata": {},
   "source": [
    "Compile CUDA codes with `nvcc` and run:"
   ]
  },
  {
   "cell_type": "code",
   "execution_count": null,
   "metadata": {},
   "outputs": [],
   "source": [
    "nvcc example.cu -o example"
   ]
  },
  {
   "cell_type": "code",
   "execution_count": null,
   "metadata": {},
   "outputs": [],
   "source": [
    "!./example"
   ]
  }
 ],
 "metadata": {
  "accelerator": "GPU",
  "colab": {
   "collapsed_sections": [],
   "name": "Copy of openACC_CUDA_colab.ipynb",
   "provenance": [],
   "toc_visible": true
  },
  "kernelspec": {
   "display_name": "Python 3",
   "language": "python",
   "name": "python3"
  },
  "language_info": {
   "codemirror_mode": {
    "name": "ipython",
    "version": 3
   },
   "file_extension": ".py",
   "mimetype": "text/x-python",
   "name": "python",
   "nbconvert_exporter": "python",
   "pygments_lexer": "ipython3",
   "version": "3.8.5"
  }
 },
 "nbformat": 4,
 "nbformat_minor": 4
}
